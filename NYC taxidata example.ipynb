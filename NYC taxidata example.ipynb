{
 "cells": [
  {
   "cell_type": "markdown",
   "metadata": {},
   "source": [
    "# iPython Notebook Sample\n",
    "### Jukka Ruponen, IBM, 2015-11-18"
   ]
  },
  {
   "cell_type": "markdown",
   "metadata": {},
   "source": [
    "#### Hypothesis: \"In order to get best tips, taxi drivers should favor carrying 3-4 people at once\""
   ]
  },
  {
   "cell_type": "markdown",
   "metadata": {},
   "source": [
    "In order to confirm the hypothesis, this notebook will do the following:\n",
    "1. Read NYC taxidata from Open API\n",
    "1. Normalize and test the data\n",
    "1. Perform analysis\n",
    "1. (Optional) Export analysis result (as CSV file) and upload to an exteral HDFS (if you have one) for further processing\n",
    "1. Visualize the result to confirm (or reject) our hypothesis"
   ]
  },
  {
   "cell_type": "markdown",
   "metadata": {},
   "source": [
    "### Add the required modules"
   ]
  },
  {
   "cell_type": "code",
   "execution_count": null,
   "metadata": {
    "collapsed": false
   },
   "outputs": [],
   "source": [
    "import pandas\n",
    "import requests\n",
    "import json"
   ]
  },
  {
   "cell_type": "markdown",
   "metadata": {},
   "source": [
    "### Read NYC taxidata from REST API"
   ]
  },
  {
   "cell_type": "code",
   "execution_count": null,
   "metadata": {
    "collapsed": true
   },
   "outputs": [],
   "source": [
    "raw_taxidata = requests.get('https://data.cityofnewyork.us/resource/2yzn-sicd.json')\n",
    "json_taxidata = raw_taxidata.json()"
   ]
  },
  {
   "cell_type": "code",
   "execution_count": null,
   "metadata": {
    "collapsed": false
   },
   "outputs": [],
   "source": [
    "# Print out the data - DO NOT RUN THIS STEP unless you really want to see lots of data printed out in here!!!\n",
    "json_taxidata"
   ]
  },
  {
   "cell_type": "code",
   "execution_count": null,
   "metadata": {
    "collapsed": false,
    "scrolled": true
   },
   "outputs": [],
   "source": [
    "# What is the lenght of data (number of lines)?\n",
    "print len(json_taxidata)"
   ]
  },
  {
   "cell_type": "markdown",
   "metadata": {},
   "source": [
    "### Lets normalize and test the data, and try to find an answer"
   ]
  },
  {
   "cell_type": "code",
   "execution_count": null,
   "metadata": {
    "collapsed": false
   },
   "outputs": [],
   "source": [
    "# Lets import json_normalize since we can use it to convert JSON data to tabular data\n",
    "from pandas.io.json import json_normalize"
   ]
  },
  {
   "cell_type": "code",
   "execution_count": null,
   "metadata": {
    "collapsed": false,
    "scrolled": false
   },
   "outputs": [],
   "source": [
    "# Make a normalized data frame and print out the first five rows\n",
    "taxidata = json_normalize(json_taxidata)\n",
    "taxidata.head()"
   ]
  },
  {
   "cell_type": "code",
   "execution_count": null,
   "metadata": {
    "collapsed": true
   },
   "outputs": [],
   "source": [
    "# Since the numeric values are actually text strings, we'll first need to convert them to float\n",
    "taxidata2 = taxidata.convert_objects(convert_numeric=True)"
   ]
  },
  {
   "cell_type": "code",
   "execution_count": null,
   "metadata": {
    "collapsed": false
   },
   "outputs": [],
   "source": [
    "# Test: What is the biggest amount of fare paid?\n",
    "taxidata2['fare_amount'].max()"
   ]
  },
  {
   "cell_type": "code",
   "execution_count": null,
   "metadata": {
    "collapsed": false
   },
   "outputs": [],
   "source": [
    "# Test: What is the biggest amount of tip paid?\n",
    "taxidata2['tip_amount'].max()"
   ]
  },
  {
   "cell_type": "code",
   "execution_count": null,
   "metadata": {
    "collapsed": false
   },
   "outputs": [],
   "source": [
    "# Test: How many individual taxi trips with different number of passengers?\n",
    "taxidata2['passenger_count'].value_counts()"
   ]
  },
  {
   "cell_type": "code",
   "execution_count": null,
   "metadata": {
    "collapsed": false,
    "scrolled": false
   },
   "outputs": [],
   "source": [
    "# Just to play around, setting index to vendorid\n",
    "passengers = taxidata2.set_index(taxidata[\"vendor_id\"])\n",
    "# Drop off unneeded columns to clean the data\n",
    "passengers.drop(['extra','mta_tax','vendor_id','dropoff_latitude','dropoff_longitude','pickup_latitude','pickup_longitude','rate_code','store_and_fwd_flag'], axis=1, inplace=True)\n",
    "passengers.head()"
   ]
  },
  {
   "cell_type": "code",
   "execution_count": null,
   "metadata": {
    "collapsed": false
   },
   "outputs": [],
   "source": [
    "# Test: How much tips were given total by the number of passangers in the taxi?\n",
    "passengers.groupby('passenger_count')['tip_amount'].sum()"
   ]
  },
  {
   "cell_type": "code",
   "execution_count": null,
   "metadata": {
    "collapsed": false
   },
   "outputs": [],
   "source": [
    "# Got it! So group the data by passenger_count and extract average stats for each 'number of passengers' group\n",
    "averages = passengers.groupby(['passenger_count']).agg({'fare_amount': 'mean',\n",
    "                                             'tip_amount': 'mean',\n",
    "                                             'trip_distance': 'mean'})\n",
    "averages"
   ]
  },
  {
   "cell_type": "markdown",
   "metadata": {},
   "source": [
    "### (Optional) Save the previous output into a CSV file in local GPFS file system"
   ]
  },
  {
   "cell_type": "code",
   "execution_count": null,
   "metadata": {
    "collapsed": false
   },
   "outputs": [],
   "source": [
    "# Save the last result as CSV file on the local GPFS filesystem (just to make it clear: It's NOT saved in the \"Object Store\")\n",
    "_.to_csv('NYC_taxi_passenger_tips.csv')\n",
    "\n",
    "# Just to confirm it was saved, print out the first 4 lines of the saved file\n",
    "!head -n4 'NYC_taxi_passenger_tips.csv'"
   ]
  },
  {
   "cell_type": "markdown",
   "metadata": {},
   "source": [
    "### (Optional) Uploading the stored file into external Hadoop"
   ]
  },
  {
   "cell_type": "code",
   "execution_count": null,
   "metadata": {
    "collapsed": true
   },
   "outputs": [],
   "source": [
    "# Using curl, you could upload the stored file into an external HDFS (if you have one)\n",
    "HDFS_WebhdfsUrl = \"https://bi-hadoop-prod-2470.services.dal.bluemix.net:8443/gateway/default/webhdfs/v1\" # Replace with your WebhdfsUrl\n",
    "HDFS_userid = \"\" # WebHDFS userid\n",
    "HDFS_password = \"\" # WebHDFS password\n",
    "Local_filename = \"NYC_taxi_passenger_tips.csv\" # This is the local filename you used with the _.to_csv('filename') command above\n",
    "HDFS_filepath = \"/user/biblumix/test/test.csv\" # This is the filename to be stored, with full path on HDFS (the directory will be created, if not exist)\n",
    "HDFS_operator = \"op=CREATE\" # 'op=CREATE' will create a new file. For other operators, see: https://hadoop.apache.org/docs/r1.0.4/webhdfs.html\n",
    "HDFS_maxTime = 45 # This is seconds after which the transfer will timeout, success or not. Make sure its long enough for full transfer.\n",
    "!curl -i -L -k -s --user \"$HDFS_userid\":\"$HDFS_password\" --max-time $HDFS_maxTime -X PUT -T \"$Local_filename\" \"$HDFS_WebhdfsUrl$HDFS_filepath?$HDFS_operator\""
   ]
  },
  {
   "cell_type": "markdown",
   "metadata": {},
   "source": [
    "### Lets visualize the answer"
   ]
  },
  {
   "cell_type": "code",
   "execution_count": null,
   "metadata": {
    "collapsed": true
   },
   "outputs": [],
   "source": [
    "%matplotlib inline"
   ]
  },
  {
   "cell_type": "code",
   "execution_count": null,
   "metadata": {
    "collapsed": false
   },
   "outputs": [],
   "source": [
    "#passengers = averages.ix['passenger_count']\n",
    "averages.plot(kind='bar', figsize=(8,5), title=\"Average earnings by # of passengers\" % passengers)"
   ]
  },
  {
   "cell_type": "markdown",
   "metadata": {},
   "source": [
    "Extra challenge: What other valuable information could you derive from the data?"
   ]
  }
 ],
 "metadata": {
  "kernelspec": {
   "display_name": "Python 2",
   "language": "python",
   "name": "python2"
  },
  "language_info": {
   "codemirror_mode": {
    "name": "ipython",
    "version": 2
   },
   "file_extension": ".py",
   "mimetype": "text/x-python",
   "name": "python",
   "nbconvert_exporter": "python",
   "pygments_lexer": "ipython2",
   "version": "2.7.9"
  }
 },
 "nbformat": 4,
 "nbformat_minor": 0
}