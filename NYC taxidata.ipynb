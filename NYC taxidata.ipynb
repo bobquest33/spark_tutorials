{
 "cells": [
  {
   "cell_type": "markdown",
   "metadata": {},
   "source": [
    "# iPython Notebook Sample\n",
    "### Jukka Ruponen, IBM, 2015-11-18"
   ]
  },
  {
   "cell_type": "markdown",
   "metadata": {},
   "source": [
    "#### Hypothesis: \"In order to get best tips, taxi drivers should favor carrying 3-4 people at once\""
   ]
  },
  {
   "cell_type": "markdown",
   "metadata": {},
   "source": [
    "In order to confirm the hypothesis, this notebook will do the following:\n",
    "1. Read NYC taxidata from Open API\n",
    "1. Normalize and test the data\n",
    "1. Perform analysis\n",
    "1. (Optional) Export analysis result (as CSV file) and upload to an exteral HDFS (if you have one) for further processing\n",
    "1. Visualize the result to confirm (or reject) our hypothesis"
   ]
  },
  {
   "cell_type": "markdown",
   "metadata": {},
   "source": [
    "### Add the required modules"
   ]
  },
  {
   "cell_type": "code",
   "execution_count": 1,
   "metadata": {
    "collapsed": false
   },
   "outputs": [],
   "source": [
    "import pandas\n",
    "import requests\n",
    "import json"
   ]
  },
  {
   "cell_type": "markdown",
   "metadata": {},
   "source": [
    "### Read NYC taxidata from REST API"
   ]
  },
  {
   "cell_type": "code",
   "execution_count": 2,
   "metadata": {
    "collapsed": true
   },
   "outputs": [],
   "source": [
    "raw_taxidata = requests.get('https://data.cityofnewyork.us/resource/2yzn-sicd.json')\n",
    "json_taxidata = raw_taxidata.json()"
   ]
  },
  {
   "cell_type": "code",
   "execution_count": null,
   "metadata": {
    "collapsed": false
   },
   "outputs": [],
   "source": [
    "# Print out the data - DO NOT RUN THIS STEP unless you really want to see lots of data printed out in here!!!\n",
    "json_taxidata"
   ]
  },
  {
   "cell_type": "code",
   "execution_count": 3,
   "metadata": {
    "collapsed": false,
    "scrolled": true
   },
   "outputs": [
    {
     "name": "stdout",
     "output_type": "stream",
     "text": [
      "1000\n"
     ]
    }
   ],
   "source": [
    "# What is the lenght of data (number of lines)?\n",
    "print len(json_taxidata)"
   ]
  },
  {
   "cell_type": "markdown",
   "metadata": {},
   "source": [
    "### Lets normalize and test the data, and try to find an answer"
   ]
  },
  {
   "cell_type": "code",
   "execution_count": 4,
   "metadata": {
    "collapsed": false
   },
   "outputs": [],
   "source": [
    "# Lets import json_normalize since we can use it to convert JSON data to tabular data\n",
    "from pandas.io.json import json_normalize"
   ]
  },
  {
   "cell_type": "code",
   "execution_count": 15,
   "metadata": {
    "collapsed": false,
    "scrolled": false
   },
   "outputs": [
    {
     "data": {
      "text/html": [
       "<div style=\"max-height:1000px;max-width:1500px;overflow:auto;\">\n",
       "<table border=\"1\" class=\"dataframe\">\n",
       "  <thead>\n",
       "    <tr style=\"text-align: right;\">\n",
       "      <th></th>\n",
       "      <th>dropoff_datetime</th>\n",
       "      <th>dropoff_latitude</th>\n",
       "      <th>dropoff_longitude</th>\n",
       "      <th>extra</th>\n",
       "      <th>fare_amount</th>\n",
       "      <th>mta_tax</th>\n",
       "      <th>passenger_count</th>\n",
       "      <th>payment_type</th>\n",
       "      <th>pickup_datetime</th>\n",
       "      <th>pickup_latitude</th>\n",
       "      <th>pickup_longitude</th>\n",
       "      <th>rate_code</th>\n",
       "      <th>store_and_fwd_flag</th>\n",
       "      <th>tip_amount</th>\n",
       "      <th>tolls_amount</th>\n",
       "      <th>total_amount</th>\n",
       "      <th>trip_distance</th>\n",
       "      <th>vendor_id</th>\n",
       "    </tr>\n",
       "  </thead>\n",
       "  <tbody>\n",
       "    <tr>\n",
       "      <th>0</th>\n",
       "      <td> 2015-06-26T18:49:21.000</td>\n",
       "      <td> 40.777107238769531</td>\n",
       "      <td> -73.949638366699219</td>\n",
       "      <td> 1</td>\n",
       "      <td>  16</td>\n",
       "      <td> 0.5</td>\n",
       "      <td> 1</td>\n",
       "      <td> 2</td>\n",
       "      <td> 2015-06-26T18:27:51.000</td>\n",
       "      <td> 40.750080108642578</td>\n",
       "      <td> -73.991447448730469</td>\n",
       "      <td> 1</td>\n",
       "      <td> N</td>\n",
       "      <td>    0</td>\n",
       "      <td> 0</td>\n",
       "      <td>  17.8</td>\n",
       "      <td> 3.76</td>\n",
       "      <td> 2</td>\n",
       "    </tr>\n",
       "    <tr>\n",
       "      <th>1</th>\n",
       "      <td> 2015-01-18T12:36:50.000</td>\n",
       "      <td> 40.782718658447266</td>\n",
       "      <td> -73.973106384277344</td>\n",
       "      <td> 0</td>\n",
       "      <td> 8.5</td>\n",
       "      <td> 0.5</td>\n",
       "      <td> 5</td>\n",
       "      <td> 2</td>\n",
       "      <td> 2015-01-18T12:29:13.000</td>\n",
       "      <td> 40.760688781738281</td>\n",
       "      <td>   -73.9757080078125</td>\n",
       "      <td> 1</td>\n",
       "      <td> N</td>\n",
       "      <td>    0</td>\n",
       "      <td> 0</td>\n",
       "      <td>   9.3</td>\n",
       "      <td> 2.28</td>\n",
       "      <td> 2</td>\n",
       "    </tr>\n",
       "    <tr>\n",
       "      <th>2</th>\n",
       "      <td> 2015-05-05T08:40:29.000</td>\n",
       "      <td> 40.744693756103516</td>\n",
       "      <td> -73.980079650878906</td>\n",
       "      <td> 0</td>\n",
       "      <td>   7</td>\n",
       "      <td> 0.5</td>\n",
       "      <td> 1</td>\n",
       "      <td> 2</td>\n",
       "      <td> 2015-05-05T08:32:47.000</td>\n",
       "      <td> 40.759136199951172</td>\n",
       "      <td> -73.970184326171875</td>\n",
       "      <td> 1</td>\n",
       "      <td> N</td>\n",
       "      <td>    0</td>\n",
       "      <td> 0</td>\n",
       "      <td>   7.8</td>\n",
       "      <td>    1</td>\n",
       "      <td> 1</td>\n",
       "    </tr>\n",
       "    <tr>\n",
       "      <th>3</th>\n",
       "      <td> 2015-06-15T19:54:48.000</td>\n",
       "      <td> 40.783607482910156</td>\n",
       "      <td> -73.979179382324219</td>\n",
       "      <td> 1</td>\n",
       "      <td>   4</td>\n",
       "      <td> 0.5</td>\n",
       "      <td> 1</td>\n",
       "      <td> 1</td>\n",
       "      <td> 2015-06-15T19:51:51.000</td>\n",
       "      <td> 40.785934448242187</td>\n",
       "      <td> -73.972564697265625</td>\n",
       "      <td> 1</td>\n",
       "      <td> N</td>\n",
       "      <td> 1.16</td>\n",
       "      <td> 0</td>\n",
       "      <td>  6.96</td>\n",
       "      <td>  0.5</td>\n",
       "      <td> 1</td>\n",
       "    </tr>\n",
       "    <tr>\n",
       "      <th>4</th>\n",
       "      <td> 2015-05-12T08:38:20.000</td>\n",
       "      <td> 40.789329528808594</td>\n",
       "      <td> -73.952789306640625</td>\n",
       "      <td> 0</td>\n",
       "      <td>  12</td>\n",
       "      <td> 0.5</td>\n",
       "      <td> 1</td>\n",
       "      <td> 1</td>\n",
       "      <td> 2015-05-12T08:22:32.000</td>\n",
       "      <td> 40.767032623291016</td>\n",
       "      <td> -73.953704833984375</td>\n",
       "      <td> 1</td>\n",
       "      <td> N</td>\n",
       "      <td> 2.56</td>\n",
       "      <td> 0</td>\n",
       "      <td> 15.36</td>\n",
       "      <td>    2</td>\n",
       "      <td> 1</td>\n",
       "    </tr>\n",
       "  </tbody>\n",
       "</table>\n",
       "</div>"
      ],
      "text/plain": [
       "          dropoff_datetime    dropoff_latitude    dropoff_longitude extra  \\\n",
       "0  2015-06-26T18:49:21.000  40.777107238769531  -73.949638366699219     1   \n",
       "1  2015-01-18T12:36:50.000  40.782718658447266  -73.973106384277344     0   \n",
       "2  2015-05-05T08:40:29.000  40.744693756103516  -73.980079650878906     0   \n",
       "3  2015-06-15T19:54:48.000  40.783607482910156  -73.979179382324219     1   \n",
       "4  2015-05-12T08:38:20.000  40.789329528808594  -73.952789306640625     0   \n",
       "\n",
       "  fare_amount mta_tax passenger_count payment_type          pickup_datetime  \\\n",
       "0          16     0.5               1            2  2015-06-26T18:27:51.000   \n",
       "1         8.5     0.5               5            2  2015-01-18T12:29:13.000   \n",
       "2           7     0.5               1            2  2015-05-05T08:32:47.000   \n",
       "3           4     0.5               1            1  2015-06-15T19:51:51.000   \n",
       "4          12     0.5               1            1  2015-05-12T08:22:32.000   \n",
       "\n",
       "      pickup_latitude     pickup_longitude rate_code store_and_fwd_flag  \\\n",
       "0  40.750080108642578  -73.991447448730469         1                  N   \n",
       "1  40.760688781738281    -73.9757080078125         1                  N   \n",
       "2  40.759136199951172  -73.970184326171875         1                  N   \n",
       "3  40.785934448242187  -73.972564697265625         1                  N   \n",
       "4  40.767032623291016  -73.953704833984375         1                  N   \n",
       "\n",
       "  tip_amount tolls_amount total_amount trip_distance vendor_id  \n",
       "0          0            0         17.8          3.76         2  \n",
       "1          0            0          9.3          2.28         2  \n",
       "2          0            0          7.8             1         1  \n",
       "3       1.16            0         6.96           0.5         1  \n",
       "4       2.56            0        15.36             2         1  "
      ]
     },
     "execution_count": 15,
     "metadata": {},
     "output_type": "execute_result"
    }
   ],
   "source": [
    "# Make a normalized data frame and print out the first five rows\n",
    "taxidata = json_normalize(json_taxidata)\n",
    "taxidata.head()"
   ]
  },
  {
   "cell_type": "code",
   "execution_count": 6,
   "metadata": {
    "collapsed": true
   },
   "outputs": [],
   "source": [
    "# Since the numeric values are actually text strings, we'll first need to convert them to float\n",
    "taxidata2 = taxidata.convert_objects(convert_numeric=True)"
   ]
  },
  {
   "cell_type": "code",
   "execution_count": 7,
   "metadata": {
    "collapsed": false
   },
   "outputs": [
    {
     "data": {
      "text/plain": [
       "90.0"
      ]
     },
     "execution_count": 7,
     "metadata": {},
     "output_type": "execute_result"
    }
   ],
   "source": [
    "# Test: What is the biggest amount of fare paid?\n",
    "taxidata2['fare_amount'].max()"
   ]
  },
  {
   "cell_type": "code",
   "execution_count": 8,
   "metadata": {
    "collapsed": false
   },
   "outputs": [
    {
     "data": {
      "text/plain": [
       "20.399999999999999"
      ]
     },
     "execution_count": 8,
     "metadata": {},
     "output_type": "execute_result"
    }
   ],
   "source": [
    "# Test: What is the biggest amount of tip paid?\n",
    "taxidata2['tip_amount'].max()"
   ]
  },
  {
   "cell_type": "code",
   "execution_count": 11,
   "metadata": {
    "collapsed": false
   },
   "outputs": [
    {
     "data": {
      "text/plain": [
       "1    689\n",
       "2    140\n",
       "5     77\n",
       "6     43\n",
       "3     38\n",
       "4     13\n",
       "dtype: int64"
      ]
     },
     "execution_count": 11,
     "metadata": {},
     "output_type": "execute_result"
    }
   ],
   "source": [
    "# Test: How many individual taxi trips with different number of passengers?\n",
    "taxidata2['passenger_count'].value_counts()"
   ]
  },
  {
   "cell_type": "code",
   "execution_count": 17,
   "metadata": {
    "collapsed": false,
    "scrolled": false
   },
   "outputs": [
    {
     "data": {
      "text/html": [
       "<div style=\"max-height:1000px;max-width:1500px;overflow:auto;\">\n",
       "<table border=\"1\" class=\"dataframe\">\n",
       "  <thead>\n",
       "    <tr style=\"text-align: right;\">\n",
       "      <th></th>\n",
       "      <th>dropoff_datetime</th>\n",
       "      <th>fare_amount</th>\n",
       "      <th>passenger_count</th>\n",
       "      <th>payment_type</th>\n",
       "      <th>pickup_datetime</th>\n",
       "      <th>tip_amount</th>\n",
       "      <th>tolls_amount</th>\n",
       "      <th>total_amount</th>\n",
       "      <th>trip_distance</th>\n",
       "    </tr>\n",
       "    <tr>\n",
       "      <th>vendor_id</th>\n",
       "      <th></th>\n",
       "      <th></th>\n",
       "      <th></th>\n",
       "      <th></th>\n",
       "      <th></th>\n",
       "      <th></th>\n",
       "      <th></th>\n",
       "      <th></th>\n",
       "      <th></th>\n",
       "    </tr>\n",
       "  </thead>\n",
       "  <tbody>\n",
       "    <tr>\n",
       "      <th>2</th>\n",
       "      <td> 2015-06-26T18:49:21.000</td>\n",
       "      <td> 16.0</td>\n",
       "      <td> 1</td>\n",
       "      <td> 2</td>\n",
       "      <td> 2015-06-26T18:27:51.000</td>\n",
       "      <td> 0.00</td>\n",
       "      <td> 0</td>\n",
       "      <td> 17.80</td>\n",
       "      <td> 3.76</td>\n",
       "    </tr>\n",
       "    <tr>\n",
       "      <th>2</th>\n",
       "      <td> 2015-01-18T12:36:50.000</td>\n",
       "      <td>  8.5</td>\n",
       "      <td> 5</td>\n",
       "      <td> 2</td>\n",
       "      <td> 2015-01-18T12:29:13.000</td>\n",
       "      <td> 0.00</td>\n",
       "      <td> 0</td>\n",
       "      <td>  9.30</td>\n",
       "      <td> 2.28</td>\n",
       "    </tr>\n",
       "    <tr>\n",
       "      <th>1</th>\n",
       "      <td> 2015-05-05T08:40:29.000</td>\n",
       "      <td>  7.0</td>\n",
       "      <td> 1</td>\n",
       "      <td> 2</td>\n",
       "      <td> 2015-05-05T08:32:47.000</td>\n",
       "      <td> 0.00</td>\n",
       "      <td> 0</td>\n",
       "      <td>  7.80</td>\n",
       "      <td> 1.00</td>\n",
       "    </tr>\n",
       "    <tr>\n",
       "      <th>1</th>\n",
       "      <td> 2015-06-15T19:54:48.000</td>\n",
       "      <td>  4.0</td>\n",
       "      <td> 1</td>\n",
       "      <td> 1</td>\n",
       "      <td> 2015-06-15T19:51:51.000</td>\n",
       "      <td> 1.16</td>\n",
       "      <td> 0</td>\n",
       "      <td>  6.96</td>\n",
       "      <td> 0.50</td>\n",
       "    </tr>\n",
       "    <tr>\n",
       "      <th>1</th>\n",
       "      <td> 2015-05-12T08:38:20.000</td>\n",
       "      <td> 12.0</td>\n",
       "      <td> 1</td>\n",
       "      <td> 1</td>\n",
       "      <td> 2015-05-12T08:22:32.000</td>\n",
       "      <td> 2.56</td>\n",
       "      <td> 0</td>\n",
       "      <td> 15.36</td>\n",
       "      <td> 2.00</td>\n",
       "    </tr>\n",
       "  </tbody>\n",
       "</table>\n",
       "</div>"
      ],
      "text/plain": [
       "                  dropoff_datetime  fare_amount  passenger_count  \\\n",
       "vendor_id                                                          \n",
       "2          2015-06-26T18:49:21.000         16.0                1   \n",
       "2          2015-01-18T12:36:50.000          8.5                5   \n",
       "1          2015-05-05T08:40:29.000          7.0                1   \n",
       "1          2015-06-15T19:54:48.000          4.0                1   \n",
       "1          2015-05-12T08:38:20.000         12.0                1   \n",
       "\n",
       "           payment_type          pickup_datetime  tip_amount  tolls_amount  \\\n",
       "vendor_id                                                                    \n",
       "2                     2  2015-06-26T18:27:51.000        0.00             0   \n",
       "2                     2  2015-01-18T12:29:13.000        0.00             0   \n",
       "1                     2  2015-05-05T08:32:47.000        0.00             0   \n",
       "1                     1  2015-06-15T19:51:51.000        1.16             0   \n",
       "1                     1  2015-05-12T08:22:32.000        2.56             0   \n",
       "\n",
       "           total_amount  trip_distance  \n",
       "vendor_id                               \n",
       "2                 17.80           3.76  \n",
       "2                  9.30           2.28  \n",
       "1                  7.80           1.00  \n",
       "1                  6.96           0.50  \n",
       "1                 15.36           2.00  "
      ]
     },
     "execution_count": 17,
     "metadata": {},
     "output_type": "execute_result"
    }
   ],
   "source": [
    "# Just to play around, setting index to vendorid\n",
    "passengers = taxidata2.set_index(taxidata[\"vendor_id\"])\n",
    "# Drop off unneeded columns to clean the data\n",
    "passengers.drop(['extra','mta_tax','vendor_id','dropoff_latitude','dropoff_longitude','pickup_latitude','pickup_longitude','rate_code','store_and_fwd_flag'], axis=1, inplace=True)\n",
    "passengers.head()"
   ]
  },
  {
   "cell_type": "code",
   "execution_count": 18,
   "metadata": {
    "collapsed": false
   },
   "outputs": [
    {
     "data": {
      "text/plain": [
       "passenger_count\n",
       "1                  1184.85\n",
       "2                   238.05\n",
       "3                    78.31\n",
       "4                    27.02\n",
       "5                   123.16\n",
       "6                    67.02\n",
       "Name: tip_amount, dtype: float64"
      ]
     },
     "execution_count": 18,
     "metadata": {},
     "output_type": "execute_result"
    }
   ],
   "source": [
    "# Test: How much tips were given total by the number of passangers in the taxi?\n",
    "passengers.groupby('passenger_count')['tip_amount'].sum()"
   ]
  },
  {
   "cell_type": "code",
   "execution_count": 19,
   "metadata": {
    "collapsed": false
   },
   "outputs": [
    {
     "data": {
      "text/html": [
       "<div style=\"max-height:1000px;max-width:1500px;overflow:auto;\">\n",
       "<table border=\"1\" class=\"dataframe\">\n",
       "  <thead>\n",
       "    <tr style=\"text-align: right;\">\n",
       "      <th></th>\n",
       "      <th>trip_distance</th>\n",
       "      <th>tip_amount</th>\n",
       "      <th>fare_amount</th>\n",
       "    </tr>\n",
       "    <tr>\n",
       "      <th>passenger_count</th>\n",
       "      <th></th>\n",
       "      <th></th>\n",
       "      <th></th>\n",
       "    </tr>\n",
       "  </thead>\n",
       "  <tbody>\n",
       "    <tr>\n",
       "      <th>1</th>\n",
       "      <td> 2.941306</td>\n",
       "      <td> 1.719666</td>\n",
       "      <td> 12.801161</td>\n",
       "    </tr>\n",
       "    <tr>\n",
       "      <th>2</th>\n",
       "      <td> 2.763643</td>\n",
       "      <td> 1.700357</td>\n",
       "      <td> 12.700000</td>\n",
       "    </tr>\n",
       "    <tr>\n",
       "      <th>3</th>\n",
       "      <td> 3.613421</td>\n",
       "      <td> 2.060789</td>\n",
       "      <td> 14.947368</td>\n",
       "    </tr>\n",
       "    <tr>\n",
       "      <th>4</th>\n",
       "      <td> 3.622308</td>\n",
       "      <td> 2.078462</td>\n",
       "      <td> 14.923077</td>\n",
       "    </tr>\n",
       "    <tr>\n",
       "      <th>5</th>\n",
       "      <td> 3.140519</td>\n",
       "      <td> 1.599481</td>\n",
       "      <td> 12.941558</td>\n",
       "    </tr>\n",
       "    <tr>\n",
       "      <th>6</th>\n",
       "      <td> 2.923488</td>\n",
       "      <td> 1.558605</td>\n",
       "      <td> 12.360465</td>\n",
       "    </tr>\n",
       "  </tbody>\n",
       "</table>\n",
       "</div>"
      ],
      "text/plain": [
       "                 trip_distance  tip_amount  fare_amount\n",
       "passenger_count                                        \n",
       "1                     2.941306    1.719666    12.801161\n",
       "2                     2.763643    1.700357    12.700000\n",
       "3                     3.613421    2.060789    14.947368\n",
       "4                     3.622308    2.078462    14.923077\n",
       "5                     3.140519    1.599481    12.941558\n",
       "6                     2.923488    1.558605    12.360465"
      ]
     },
     "execution_count": 19,
     "metadata": {},
     "output_type": "execute_result"
    }
   ],
   "source": [
    "# Got it! So group the data by passenger_count and extract average stats for each 'number of passengers' group\n",
    "averages = passengers.groupby(['passenger_count']).agg({'fare_amount': 'mean',\n",
    "                                             'tip_amount': 'mean',\n",
    "                                             'trip_distance': 'mean'})\n",
    "averages"
   ]
  },
  {
   "cell_type": "markdown",
   "metadata": {},
   "source": [
    "### (Optional) Save the previous output into a CSV file in local GPFS file system"
   ]
  },
  {
   "cell_type": "code",
   "execution_count": 20,
   "metadata": {
    "collapsed": false
   },
   "outputs": [
    {
     "name": "stdout",
     "output_type": "stream",
     "text": [
      "passenger_count,trip_distance,tip_amount,fare_amount\r\n",
      "1,2.941306240928882,1.7196661828737303,12.801161103047896\r\n",
      "2,2.7636428571428597,1.7003571428571422,12.7\r\n",
      "3,3.6134210526315798,2.060789473684211,14.947368421052632\r\n"
     ]
    }
   ],
   "source": [
    "# Save the last result as CSV file on the local GPFS filesystem (just to make it clear: It's NOT saved in the \"Object Store\")\n",
    "_.to_csv('NYC_taxi_passenger_tips.csv')\n",
    "\n",
    "# Just to confirm it was saved, print out the first 4 lines of the saved file\n",
    "!head -n4 'NYC_taxi_passenger_tips.csv'"
   ]
  },
  {
   "cell_type": "markdown",
   "metadata": {},
   "source": [
    "### (Optional) Uploading the stored file into external Hadoop"
   ]
  },
  {
   "cell_type": "code",
   "execution_count": null,
   "metadata": {
    "collapsed": true
   },
   "outputs": [],
   "source": [
    "# Using curl, you could upload the stored file into an external HDFS (if you have one)\n",
    "HDFS_WebhdfsUrl = \"https://bi-hadoop-prod-2470.services.dal.bluemix.net:8443/gateway/default/webhdfs/v1\" # Replace with your WebhdfsUrl\n",
    "HDFS_userid = \"\" # WebHDFS userid\n",
    "HDFS_password = \"\" # WebHDFS password\n",
    "Local_filename = \"NYC_taxi_passenger_tips.csv\" # This is the local filename you used with the _.to_csv('filename') command above\n",
    "HDFS_filepath = \"/user/biblumix/test/test.csv\" # This is the filename to be stored, with full path on HDFS (the directory will be created, if not exist)\n",
    "HDFS_operator = \"op=CREATE\" # 'op=CREATE' will create a new file. For other operators, see: https://hadoop.apache.org/docs/r1.0.4/webhdfs.html\n",
    "HDFS_maxTime = 45 # This is seconds after which the transfer will timeout, success or not. Make sure its long enough for full transfer.\n",
    "!curl -i -L -k -s --user \"$HDFS_userid\":\"$HDFS_password\" --max-time $HDFS_maxTime -X PUT -T \"$Local_filename\" \"$HDFS_WebhdfsUrl$HDFS_filepath?$HDFS_operator\""
   ]
  },
  {
   "cell_type": "markdown",
   "metadata": {},
   "source": [
    "### Lets visualize the answer"
   ]
  },
  {
   "cell_type": "code",
   "execution_count": 21,
   "metadata": {
    "collapsed": true
   },
   "outputs": [],
   "source": [
    "%matplotlib inline"
   ]
  },
  {
   "cell_type": "code",
   "execution_count": 22,
   "metadata": {
    "collapsed": false
   },
   "outputs": [
    {
     "data": {
      "text/plain": [
       "<matplotlib.axes._subplots.AxesSubplot at 0x7fed1c030550>"
      ]
     },
     "execution_count": 22,
     "metadata": {},
     "output_type": "execute_result"
    },
    {
     "data": {
      "image/png": "[encoded data removed]",
      "text/plain": [
       "<matplotlib.figure.Figure at 0x7fed1c09ffd0>"
      ]
     },
     "metadata": {},
     "output_type": "display_data"
    }
   ],
   "source": [
    "#passengers = averages.ix['passenger_count']\n",
    "averages.plot(kind='bar', figsize=(8,5), title=\"Average earnings by # of passengers\" % passengers)"
   ]
  },
  {
   "cell_type": "markdown",
   "metadata": {},
   "source": [
    "Extra challenge: What other valuable information could you derive from the data?"
   ]
  }
 ],
 "metadata": {
  "kernelspec": {
   "display_name": "Python 2",
   "language": "python",
   "name": "python2"
  },
  "language_info": {
   "codemirror_mode": {
    "name": "ipython",
    "version": 2
   },
   "file_extension": ".py",
   "mimetype": "text/x-python",
   "name": "python",
   "nbconvert_exporter": "python",
   "pygments_lexer": "ipython2",
   "version": "2.7.9"
  }
 },
 "nbformat": 4,
 "nbformat_minor": 0
}