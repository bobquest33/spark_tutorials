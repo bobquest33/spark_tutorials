{
 "cells": [
  {
   "cell_type": "markdown",
   "metadata": {},
   "source": [
    "# Getting Started with Notebooks\n",
    "(Modified for University Courses by Jukka Ruponen/IBM, 2016-03-28)\n",
    "\n",
    "Welcome to **IBM Analytics for Apache Spark**.\n",
    "This notebook is designed to introduce some basic concepts and help get you familiar with using our service.\n",
    "\n",
    "This tutorial covers:\n",
    "1. An introduction to Jupyter Notebook\n",
    "1. Pre-requisities (things you should learn about)\n",
    "1. A quick tour to the service"
   ]
  },
  {
   "cell_type": "markdown",
   "metadata": {},
   "source": [
    "## 1. Jupyter Notebook\n",
    "[Jupyter](https://jupyter.org/index.html) is a web-based environment for interactive computing.  Jupyter Notebook enables you to write and execute code within a \"notebook\" in your web browser.  You enter code into an input cell, and when you run the cell, the notebook executes the code and prints any output to an output cell.  You can change the code in an input cell and re-run the cell as often as you like.  In this way, the notebook follows a [Read Evaluate Print Loop](http://en.wikipedia.org/wiki/Read–eval–print_loop) paradigm.\n",
    "\n",
    "Jupyter was born out of the [IPython Project](http://ipython.org) in 2014.\n",
    "\n",
    "But that's not all.  The notebook also supports rendering markup cells (like this one) inline, so you can embed text, [markdown](http://daringfireball.net/projects/markdown/), HTML, images, videos, and even interactive widgets, all within a notebook.\n",
    "\n",
    "The flow of a notebook is top to bottom, and you can create as many cells as you desire.  The interactive nature and the ability to render text and media makes Jupyter Notebook a powerful environment for working with data, performing analyses, and documenting results."
   ]
  },
  {
   "cell_type": "markdown",
   "metadata": {},
   "source": [
    "## 2. Pre-requisites\n",
    "<div class=\"alert alert-block alert-info\" style=\"margin-top: 20px\">**Note:** In the rest of the tutorial, we assume you have a basic familiarity with the Python Programming Language, the Jupyter notebook, `pandas` and `matplotlib`. If you need more background information, we recommend these websites and notebooks:\n",
    "<ul>\n",
    "<li>[Learn Python the Hard Way](http://learnpythonthehardway.org/book/)\n",
    "<li>[Python Programming Language](https://www.python.org/)\n",
    "<li>[IPython Notebook](http://nbviewer.ipython.org/github/ipython/ipython/blob/2.x/examples/Notebook/Index.ipynb)\n",
    "<li>[Jupyter Notebook](http://jupyter.readthedocs.org/en/latest/)\n",
    "<li> [A gallery of interesting Notebooks](https://github.com/ipython/ipython/wiki/A-gallery-of-interesting-IPython-Notebooks)\n",
    "<li>[`pandas`](http://pandas.pydata.org/)\n",
    "<li>[`matplotlib`](http://matplotlib.org)\n",
    "</ul>\n",
    "</div>"
   ]
  },
  {
   "cell_type": "markdown",
   "metadata": {},
   "source": [
    "## 3. Quick Tour\n",
    "Before we get started, here is a tour of the **Analytics Notebooks** layout:\n",
    "\n",
    "* **Menu Bar and Toolbar**: The menu bar and toolbar are located on top of the notebook page, contain the menu and tools similar to those of Jupyter notebooks.\n",
    "\n",
    "<img src=\"https://raw.githubusercontent.com/jruponen/spark_tutorials/master/images/menu_tool_bar.png\" width=\"95%\" height=\"95%\"> \n",
    "\n",
    "* **Navigation Bar**: The navigation bar is located on the left side of the page. It contains tiles for Services, Data, Analytics and Exchange.\n",
    "    * ** Services**: Takes you to the Data & Analytic Services. There you can create new service instances. \n",
    "    * ** Data**: Takes you to the Connections. There you can create connections to data sources.\n",
    "    * ** Analytics**: Takes you to the Analytics for Apache Spark service. There you can create new service instances.\n",
    "    * ** Exchange**: Publically shared notebooks that you may re-use.\n",
    "\n",
    "<img src=\"https://raw.githubusercontent.com/jruponen/spark_tutorials/master/images/nav_bar.png\" width=\"7.5%\" height=\"7.5%\"> \n",
    "\n",
    "\n",
    "\n",
    "* **Palette**:  The palette, located on the right side of the page, contains panels to help you organize your notebooks and data. You can minimize or restore the palette by clicking the minus button at the top left corner of the palette.\n",
    "* **Palette Panels**: Palette panels are intended to help you organize your work. There are three panels that are always shown: Notebook Info, Data Source and Environment. They can be expanded or collapsed by clicking on them. \n",
    "    * **Data Source**: Displays data sources attached to the notebooks. It provides the option to add files via a drop-off area for drag and drop.\n",
    "        * **Add Source**: It is also possible to add various data sources by clicking on this button and choose an option.\n",
    "        * **Manage files **: Takes you to the Object Storage dashboard. There you can add or delete containers and files.\n",
    "    * **Notebook Info**: Displays information about the current notebook, title, description, owner, creation date and tags. \n",
    "    * **Environment**: Displays information about runtime environment, Apache Spark version, notebook version and pre-installed packages of interest.\n",
    "\n",
    "<img src=\"https://raw.githubusercontent.com/jruponen/spark_tutorials/master/images/palette.png\" width=\"25%\" height=\"25%\"> "
   ]
  },
  {
   "cell_type": "markdown",
   "metadata": {},
   "source": [
    "# Precipitation Analysis\n",
    "\n",
    "Learn how to analyze precipitation data in a Python notebook using the pre-installed `pandas` and `matplotlib` libraries to visualize results.\n",
    "\n",
    "This sample is about:\n",
    "\n",
    "1. The data set to be downloaded from UNdata (precipitation data)\n",
    "1. Uploading the CSV file to Object Storage by drag and drop\n",
    "1. Accessing data in your Notebook\n",
    "1. Loading data into a `pandas` `DataFrame`\n",
    "1. Exploring data using `pandas` `DataFrame` methods\n",
    "1. Plotting data using the `matplotlib` package\n",
    "1. Analyzing data and raising questions\n"
   ]
  },
  {
   "cell_type": "markdown",
   "metadata": {},
   "source": [
    "## 1. The data set to be downloaded from UNdata\n",
    "In this tutorial you will get acquainted with interactive notebooks by exploring and analyzing historical annual precipitation data.\n",
    "\n",
    "The raw precipitation data set is from [UNdata](http://data.un.org/), an Internet search engine for statistical databases provided by the United Nations Statistics Division. We will make use of a curated version of this data set in this tutorial. The measurements are in million cubic meter.\n",
    "\n",
    "1. Download the annual precipitation data in CSV format by clicking on this [link](https://cdsax.cloudant.com/public-samples/test/precipitation.csv).\n",
    "    Here's an alternate link, just in case: [link](https://github.com/jruponen/spark_tutorials/blob/master/precipitation.csv)    \n",
    "    **Note:** If you use Safari, then right click on the link and choose \"Download Linked File\". The CSV file will be downloaded to your \"Download\" folder.\n",
    "    \n",
    "1. Save the CSV file to your computer.\n",
    "\n"
   ]
  },
  {
   "cell_type": "markdown",
   "metadata": {},
   "source": [
    "## 2. Uploading the CSV file to Object Storage by drag and drop\n",
    "You can easily add the downloaded CSV file by dragging it from your computer and dropping it onto the drop off area of the **Data Source** panel on the **Palette**. \n",
    "Note that the file appears in the **Data Source** panel on the **Palette** and the file is saved in Object Storage.\n",
    "During the upload of the file, a progress bar indicates the status of the process. Below, you will learn how to access files in Object Storage.\n",
    "    \n",
    "<img src=\"https://cdsax.cloudant.com/public-samples/precipitation_analysis/precipitation_data_source.png\" width=\"20%\" height=\"20%\"> \n",
    "After adding a data source to your notebook, you can insert the credentials into your code for further access via the **Insert to code** function. If you want to delete files or containers, then use the ** Manage files** function. It takes you to the Object Storage dashboard where you have access to more options for organize your files."
   ]
  },
  {
   "cell_type": "markdown",
   "metadata": {},
   "source": [
    "## 3. Accessing data in your Notebook\n",
    "**[pandas](http://pandas.pydata.org/)** is a useful Python package for managing structured data.  The two primary data structures of pandas are [`Series`](http://pandas-docs.github.io/pandas-docs-travis/dsintro.html#series) (1-dimensional) and [`DataFrame`](http://pandas-docs.github.io/pandas-docs-travis/dsintro.html#dataframe) (2-dimensional).\n",
    "\n",
    "In the following steps, we'll load the annual precipitation CSV file into a DataFrame in memory.\n",
    "\n",
    "Click on the play (**&#9658;**) button in the notebook **Toolbar** to run code in each cell. The code will be executed. During execution a `[*]` is shown on the left side to indicate that the cell is running. Once it completes, the `[*]` is replaced by a number indicating that it is the Nth cell to run in the notebook."
   ]
  },
  {
   "cell_type": "markdown",
   "metadata": {},
   "source": [
    "### Step 1: Import packages into our notebook.\n",
    "Click on the code cell below, then click the right arrow button (**&#9658;**) in the notebook **Toolbar** to run the code."
   ]
  },
  {
   "cell_type": "code",
   "execution_count": 1,
   "metadata": {
    "collapsed": true
   },
   "outputs": [],
   "source": [
    "import requests, StringIO, pandas as pd, json, re"
   ]
  },
  {
   "cell_type": "markdown",
   "metadata": {},
   "source": [
    "You have imported the `requests`, `base64`, `StringIO`, `pandas` and the `re` package and can make use of them within this notebook. Pandas is traditionally imported as `pd`. "
   ]
  },
  {
   "cell_type": "markdown",
   "metadata": {},
   "source": [
    "### Step 2: Access Object Storage\n",
    "\n",
    "Because the CSV file is located in Object Storage, we need a helper function to access the file using provided credentials. Run the cell below to define the method `get_file_content()`.\n"
   ]
  },
  {
   "cell_type": "code",
   "execution_count": 2,
   "metadata": {
    "collapsed": true
   },
   "outputs": [],
   "source": [
    "def get_file_content(credentials):\n",
    "    '''For given credentials, this functions returns a StringIO object containg the file content.'''\n",
    "    \n",
    "    url1 = ''.join([credentials['auth_url'], '/v3/auth/tokens'])\n",
    "    data = {'auth': {'identity': {'methods': ['password'],\n",
    "            'password': {'user': {'name': credentials['username'],'domain': {'id': credentials['domain_id']},\n",
    "            'password': credentials['password']}}}}}\n",
    "    headers1 = {'Content-Type': 'application/json'}\n",
    "    resp1 = requests.post(url=url1, data=json.dumps(data), headers=headers1)\n",
    "    resp1_body = resp1.json()    \n",
    "    for e1 in resp1_body['token']['catalog']:\n",
    "        if(e1['type']=='object-store'):\n",
    "            for e2 in e1['endpoints']:\n",
    "                if(e2['interface']=='public'and e2['region']==credentials['region']):\n",
    "                    url2 = ''.join([e2['url'],'/', credentials['container'], '/', credentials['filename']])\n",
    "    s_subject_token = resp1.headers['x-subject-token']\n",
    "    headers2 = {'X-Auth-Token': s_subject_token, 'accept': 'application/json'}\n",
    "    resp2 = requests.get(url=url2, headers=headers2)\n",
    "    return StringIO.StringIO(resp2.content)"
   ]
  },
  {
   "cell_type": "markdown",
   "metadata": {},
   "source": [
    "### Step 3: Insert data source credentials\n",
    "\n",
    "Click on the plus button (**+**) in the notebook **Toolbar** to create a new cell. Click the newly created cell and select **Insert to code** of the precipitation.csv file in the **Data Source** Panel of the **Palette**. The neccesary credentials for accessing precipitation.csv will then be pasted into the code cell. With the credentials for the file, you can use the helper function read it into a `pandas` `DataFrame`."
   ]
  },
  {
   "cell_type": "code",
   "execution_count": null,
   "metadata": {
    "collapsed": true
   },
   "outputs": [],
   "source": [
    "auth_url : https://identity.open.softlayer.com\n",
    "project : object_storage_317aecff\n",
    "project_id : 0d742b7e4584410a9378f60f6eb34514\n",
    "region : dallas\n",
    "user_id : c1a2e99676e34d4b8952c7bb8ffc05f2\n",
    "domain_id : d0073e29567b415bbe8198eca77e8c57\n",
    "domain_name : 791473\n",
    "username : user_c2eba4f4ce7406226c4d5da9b9a7e49f20eef7a1\n",
    "password : PLA-[=w5pWgt}98!\n",
    "filename : precipitation.csv\n",
    "container : notebooks\n",
    "tenantId : sc41-e5df44d288787e-f354d22a7177\n"
   ]
  },
  {
   "cell_type": "markdown",
   "metadata": {},
   "source": [
    "For convenience you should copy the provided credentials into a dictionary for further usage. In the code cell below, we have prepared a dictionary with the corresponding entries we need to access Object Storage. Just paste the corresponding credential parts and run the cell."
   ]
  },
  {
   "cell_type": "code",
   "execution_count": 5,
   "metadata": {
    "collapsed": true
   },
   "outputs": [],
   "source": [
    "credentials = {\n",
    "    'auth_url': 'https://identity.open.softlayer.com',\n",
    "    'region': 'dallas',\n",
    "    'domain_id': 'd0073e29567b415bbe8198eca77e8c57',\n",
    "    'username': 'user_c2eba4f4ce7406226c4d5da9b9a7e49f20eef7a1',\n",
    "    'password': 'PLA-[=w5pWgt}98!',\n",
    "    'filename': 'precipitation.csv',\n",
    "    'container': 'notebooks'\n",
    "}"
   ]
  },
  {
   "cell_type": "markdown",
   "metadata": {},
   "source": [
    "## 4. Loading data into pandas DataFrame"
   ]
  },
  {
   "cell_type": "markdown",
   "metadata": {},
   "source": [
    "Click on the plus button (**+**) in the notebook **Toolbar** to create a new cell. Click the newly created cell and enter the following code:\n",
    "<pre>content_string = get_file_content(credentials)\n",
    "precipitation_df = pd.read_csv(content_string)\n",
    "</pre>"
   ]
  },
  {
   "cell_type": "code",
   "execution_count": 6,
   "metadata": {
    "collapsed": true
   },
   "outputs": [],
   "source": [
    "content_string = get_file_content(credentials)\n",
    "precipitation_df = pd.read_csv(content_string)"
   ]
  },
  {
   "cell_type": "markdown",
   "metadata": {},
   "source": [
    "## 5. Exploring data using pandas DataFrame methods\n",
    "Now that we have the data in memory, we can explore and manipulate it.\n",
    "\n",
    "Print the first 5 and the last 5 rows of the data using the `head()` and `tail()` methods.  Run each code cell below."
   ]
  },
  {
   "cell_type": "code",
   "execution_count": 7,
   "metadata": {
    "collapsed": false
   },
   "outputs": [
    {
     "data": {
      "text/html": [
       "<div style=\"max-height:1000px;max-width:1500px;overflow:auto;\">\n",
       "<table border=\"1\" class=\"dataframe\">\n",
       "  <thead>\n",
       "    <tr style=\"text-align: right;\">\n",
       "      <th></th>\n",
       "      <th>Country or Area</th>\n",
       "      <th>1990</th>\n",
       "      <th>1995</th>\n",
       "      <th>1996</th>\n",
       "      <th>1997</th>\n",
       "      <th>1998</th>\n",
       "      <th>1999</th>\n",
       "      <th>2000</th>\n",
       "      <th>2001</th>\n",
       "      <th>2002</th>\n",
       "      <th>2003</th>\n",
       "      <th>2004</th>\n",
       "      <th>2005</th>\n",
       "      <th>2006</th>\n",
       "      <th>2007</th>\n",
       "      <th>2008</th>\n",
       "      <th>2009</th>\n",
       "    </tr>\n",
       "  </thead>\n",
       "  <tbody>\n",
       "    <tr>\n",
       "      <th>0</th>\n",
       "      <td>             Albania</td>\n",
       "      <td> 28385.000000</td>\n",
       "      <td> 40311.000000</td>\n",
       "      <td>     0.000000</td>\n",
       "      <td>     0.000000</td>\n",
       "      <td>     0.0</td>\n",
       "      <td> 38284.000000</td>\n",
       "      <td> 30683.000000</td>\n",
       "      <td> 30491.000000</td>\n",
       "      <td> 35883.000000</td>\n",
       "      <td> 27893.000000</td>\n",
       "      <td> 42787.000000</td>\n",
       "      <td> 42840.000000</td>\n",
       "      <td> 32380.000000</td>\n",
       "      <td> 30964.000000</td>\n",
       "      <td>      0.000000</td>\n",
       "      <td>   0.000000</td>\n",
       "    </tr>\n",
       "    <tr>\n",
       "      <th>1</th>\n",
       "      <td>             Algeria</td>\n",
       "      <td> 76160.000000</td>\n",
       "      <td> 90270.000000</td>\n",
       "      <td> 53380.000000</td>\n",
       "      <td> 74460.000000</td>\n",
       "      <td> 66470.0</td>\n",
       "      <td> 50150.000000</td>\n",
       "      <td> 64430.000000</td>\n",
       "      <td> 43840.000000</td>\n",
       "      <td> 37317.000000</td>\n",
       "      <td>     0.000000</td>\n",
       "      <td>     0.000000</td>\n",
       "      <td>     0.000000</td>\n",
       "      <td>     0.000000</td>\n",
       "      <td>     0.000000</td>\n",
       "      <td> 100000.000000</td>\n",
       "      <td>   0.000000</td>\n",
       "    </tr>\n",
       "    <tr>\n",
       "      <th>2</th>\n",
       "      <td>             Andorra</td>\n",
       "      <td>   539.947998</td>\n",
       "      <td>   510.673004</td>\n",
       "      <td>   560.340027</td>\n",
       "      <td>   434.475006</td>\n",
       "      <td>   254.0</td>\n",
       "      <td>   450.151001</td>\n",
       "      <td>   518.666016</td>\n",
       "      <td>   456.626007</td>\n",
       "      <td>   565.559021</td>\n",
       "      <td>   566.583008</td>\n",
       "      <td>   567.044006</td>\n",
       "      <td>   530.278015</td>\n",
       "      <td>   353.220001</td>\n",
       "      <td>   306.630005</td>\n",
       "      <td>      0.000000</td>\n",
       "      <td>   0.000000</td>\n",
       "    </tr>\n",
       "    <tr>\n",
       "      <th>3</th>\n",
       "      <td>            Anguilla</td>\n",
       "      <td>    93.099998</td>\n",
       "      <td>   100.730003</td>\n",
       "      <td>     0.000000</td>\n",
       "      <td>     0.000000</td>\n",
       "      <td>     0.0</td>\n",
       "      <td>     0.000000</td>\n",
       "      <td>    68.190002</td>\n",
       "      <td>    70.730003</td>\n",
       "      <td>    68.190002</td>\n",
       "      <td>   108.769997</td>\n",
       "      <td>    84.250000</td>\n",
       "      <td>   124.400002</td>\n",
       "      <td>    99.550003</td>\n",
       "      <td>    86.290001</td>\n",
       "      <td>     96.889999</td>\n",
       "      <td>  71.080002</td>\n",
       "    </tr>\n",
       "    <tr>\n",
       "      <th>4</th>\n",
       "      <td> Antigua and Barbuda</td>\n",
       "      <td>   300.299988</td>\n",
       "      <td>   374.500000</td>\n",
       "      <td>   323.299988</td>\n",
       "      <td>   279.200012</td>\n",
       "      <td>   384.5</td>\n",
       "      <td>   426.799988</td>\n",
       "      <td>   249.600006</td>\n",
       "      <td>   238.000000</td>\n",
       "      <td>   268.600006</td>\n",
       "      <td>   253.899994</td>\n",
       "      <td>   426.899994</td>\n",
       "      <td>   371.000000</td>\n",
       "      <td>   332.799988</td>\n",
       "      <td>   293.600006</td>\n",
       "      <td>    392.500000</td>\n",
       "      <td> 276.899994</td>\n",
       "    </tr>\n",
       "  </tbody>\n",
       "</table>\n",
       "</div>"
      ],
      "text/plain": [
       "       Country or Area          1990          1995          1996  \\\n",
       "0              Albania  28385.000000  40311.000000      0.000000   \n",
       "1              Algeria  76160.000000  90270.000000  53380.000000   \n",
       "2              Andorra    539.947998    510.673004    560.340027   \n",
       "3             Anguilla     93.099998    100.730003      0.000000   \n",
       "4  Antigua and Barbuda    300.299988    374.500000    323.299988   \n",
       "\n",
       "           1997     1998          1999          2000          2001  \\\n",
       "0      0.000000      0.0  38284.000000  30683.000000  30491.000000   \n",
       "1  74460.000000  66470.0  50150.000000  64430.000000  43840.000000   \n",
       "2    434.475006    254.0    450.151001    518.666016    456.626007   \n",
       "3      0.000000      0.0      0.000000     68.190002     70.730003   \n",
       "4    279.200012    384.5    426.799988    249.600006    238.000000   \n",
       "\n",
       "           2002          2003          2004          2005          2006  \\\n",
       "0  35883.000000  27893.000000  42787.000000  42840.000000  32380.000000   \n",
       "1  37317.000000      0.000000      0.000000      0.000000      0.000000   \n",
       "2    565.559021    566.583008    567.044006    530.278015    353.220001   \n",
       "3     68.190002    108.769997     84.250000    124.400002     99.550003   \n",
       "4    268.600006    253.899994    426.899994    371.000000    332.799988   \n",
       "\n",
       "           2007           2008        2009  \n",
       "0  30964.000000       0.000000    0.000000  \n",
       "1      0.000000  100000.000000    0.000000  \n",
       "2    306.630005       0.000000    0.000000  \n",
       "3     86.290001      96.889999   71.080002  \n",
       "4    293.600006     392.500000  276.899994  "
      ]
     },
     "execution_count": 7,
     "metadata": {},
     "output_type": "execute_result"
    }
   ],
   "source": [
    "precipitation_df.head()"
   ]
  },
  {
   "cell_type": "code",
   "execution_count": 8,
   "metadata": {
    "collapsed": false
   },
   "outputs": [
    {
     "data": {
      "text/html": [
       "<div style=\"max-height:1000px;max-width:1500px;overflow:auto;\">\n",
       "<table border=\"1\" class=\"dataframe\">\n",
       "  <thead>\n",
       "    <tr style=\"text-align: right;\">\n",
       "      <th></th>\n",
       "      <th>Country or Area</th>\n",
       "      <th>1990</th>\n",
       "      <th>1995</th>\n",
       "      <th>1996</th>\n",
       "      <th>1997</th>\n",
       "      <th>1998</th>\n",
       "      <th>1999</th>\n",
       "      <th>2000</th>\n",
       "      <th>2001</th>\n",
       "      <th>2002</th>\n",
       "      <th>2003</th>\n",
       "      <th>2004</th>\n",
       "      <th>2005</th>\n",
       "      <th>2006</th>\n",
       "      <th>2007</th>\n",
       "      <th>2008</th>\n",
       "      <th>2009</th>\n",
       "    </tr>\n",
       "  </thead>\n",
       "  <tbody>\n",
       "    <tr>\n",
       "      <th>86</th>\n",
       "      <td>         Turkey</td>\n",
       "      <td>  399979</td>\n",
       "      <td>  501301</td>\n",
       "      <td>       0</td>\n",
       "      <td>       0</td>\n",
       "      <td>       0</td>\n",
       "      <td>       0</td>\n",
       "      <td>  462740</td>\n",
       "      <td>  566247</td>\n",
       "      <td>  495134</td>\n",
       "      <td>  536428</td>\n",
       "      <td>  490373</td>\n",
       "      <td>  504580</td>\n",
       "      <td>  492480</td>\n",
       "      <td>  471248.000</td>\n",
       "      <td>       0.0</td>\n",
       "      <td>      0</td>\n",
       "    </tr>\n",
       "    <tr>\n",
       "      <th>87</th>\n",
       "      <td> United Kingdom</td>\n",
       "      <td>  298070</td>\n",
       "      <td>  259765</td>\n",
       "      <td>  232622</td>\n",
       "      <td>  260019</td>\n",
       "      <td>  321155</td>\n",
       "      <td>  314559</td>\n",
       "      <td>  338989</td>\n",
       "      <td>  266177</td>\n",
       "      <td>  324685</td>\n",
       "      <td>  228856</td>\n",
       "      <td>  307431</td>\n",
       "      <td>  273842</td>\n",
       "      <td>  298282</td>\n",
       "      <td>  303966.000</td>\n",
       "      <td>  328562.0</td>\n",
       "      <td> 307871</td>\n",
       "    </tr>\n",
       "    <tr>\n",
       "      <th>88</th>\n",
       "      <td>      Venezuela</td>\n",
       "      <td> 1630000</td>\n",
       "      <td> 1520000</td>\n",
       "      <td> 1420000</td>\n",
       "      <td> 1470000</td>\n",
       "      <td> 1520000</td>\n",
       "      <td> 1560000</td>\n",
       "      <td> 1360000</td>\n",
       "      <td> 1360000</td>\n",
       "      <td> 1420000</td>\n",
       "      <td> 1195231</td>\n",
       "      <td> 1520000</td>\n",
       "      <td> 1560000</td>\n",
       "      <td> 1060000</td>\n",
       "      <td> 1335846.125</td>\n",
       "      <td> 1293661.5</td>\n",
       "      <td> 936000</td>\n",
       "    </tr>\n",
       "    <tr>\n",
       "      <th>89</th>\n",
       "      <td>          Yemen</td>\n",
       "      <td>       0</td>\n",
       "      <td>       0</td>\n",
       "      <td>       0</td>\n",
       "      <td>       0</td>\n",
       "      <td>       0</td>\n",
       "      <td>       0</td>\n",
       "      <td>   68000</td>\n",
       "      <td>       0</td>\n",
       "      <td>   55000</td>\n",
       "      <td>       0</td>\n",
       "      <td>       0</td>\n",
       "      <td>       0</td>\n",
       "      <td>       0</td>\n",
       "      <td>       0.000</td>\n",
       "      <td>       0.0</td>\n",
       "      <td>      0</td>\n",
       "    </tr>\n",
       "    <tr>\n",
       "      <th>90</th>\n",
       "      <td>       Zimbabwe</td>\n",
       "      <td>  244264</td>\n",
       "      <td>  163650</td>\n",
       "      <td>       0</td>\n",
       "      <td>       0</td>\n",
       "      <td>       0</td>\n",
       "      <td>  304363</td>\n",
       "      <td>  345236</td>\n",
       "      <td>  284708</td>\n",
       "      <td>  181977</td>\n",
       "      <td>  235238</td>\n",
       "      <td>  278338</td>\n",
       "      <td>  206712</td>\n",
       "      <td>       0</td>\n",
       "      <td>       0.000</td>\n",
       "      <td>       0.0</td>\n",
       "      <td>      0</td>\n",
       "    </tr>\n",
       "  </tbody>\n",
       "</table>\n",
       "</div>"
      ],
      "text/plain": [
       "   Country or Area     1990     1995     1996     1997     1998     1999  \\\n",
       "86          Turkey   399979   501301        0        0        0        0   \n",
       "87  United Kingdom   298070   259765   232622   260019   321155   314559   \n",
       "88       Venezuela  1630000  1520000  1420000  1470000  1520000  1560000   \n",
       "89           Yemen        0        0        0        0        0        0   \n",
       "90        Zimbabwe   244264   163650        0        0        0   304363   \n",
       "\n",
       "       2000     2001     2002     2003     2004     2005     2006  \\\n",
       "86   462740   566247   495134   536428   490373   504580   492480   \n",
       "87   338989   266177   324685   228856   307431   273842   298282   \n",
       "88  1360000  1360000  1420000  1195231  1520000  1560000  1060000   \n",
       "89    68000        0    55000        0        0        0        0   \n",
       "90   345236   284708   181977   235238   278338   206712        0   \n",
       "\n",
       "           2007       2008    2009  \n",
       "86   471248.000        0.0       0  \n",
       "87   303966.000   328562.0  307871  \n",
       "88  1335846.125  1293661.5  936000  \n",
       "89        0.000        0.0       0  \n",
       "90        0.000        0.0       0  "
      ]
     },
     "execution_count": 8,
     "metadata": {},
     "output_type": "execute_result"
    }
   ],
   "source": [
    "precipitation_df.tail()"
   ]
  },
  {
   "cell_type": "markdown",
   "metadata": {},
   "source": [
    "Each row provides:\n",
    "\n",
    "* The Country or Area of the measurements\n",
    "* The annual precipitation for 1990, and for 1995 to 2009\n",
    "\n",
    "Using the `DataFrame` API, we can list all countries or areas, just run the cell below."
   ]
  },
  {
   "cell_type": "code",
   "execution_count": 9,
   "metadata": {
    "collapsed": false,
    "scrolled": true
   },
   "outputs": [
    {
     "data": {
      "text/plain": [
       "array(['Albania', 'Algeria', 'Andorra', 'Anguilla', 'Antigua and Barbuda',\n",
       "       'Armenia', 'Azerbaijan', 'Bahrain', 'Barbados', 'Belarus',\n",
       "       'Belgium', 'Belize', 'Benin', 'Bermuda', 'Bosnia and Herzegovina',\n",
       "       'Botswana', 'British Virgin Islands', 'Brunei Darussalam',\n",
       "       'Cameroon', 'Central African Republic', 'Chile', 'China',\n",
       "       'China, Hong Kong SAR', 'China, Macao SAR', 'Colombia',\n",
       "       \"Cote d'Ivoire\", 'Croatia', 'Cuba', 'Cyprus', 'Czech Republic',\n",
       "       'Denmark', 'Dominican Republic', 'Ecuador', 'Egypt', 'Estonia',\n",
       "       'Finland', 'France', 'Gambia', 'Georgia', 'Germany', 'Guinea',\n",
       "       'Hungary', 'India', 'Iraq', 'Israel', 'Italy', 'Jamaica', 'Jordan',\n",
       "       'Kazakhstan', 'Kuwait', 'Kyrgyzstan', 'Latvia', 'Lebanon',\n",
       "       'Lithuania', 'Luxembourg', 'Madagascar', 'Maldives', 'Malta',\n",
       "       'Marshall Islands', 'Mauritius', 'Monaco', 'Morocco', 'Netherlands',\n",
       "       'Oman', 'Panama', 'Paraguay', 'Poland', 'Portugal', 'Qatar',\n",
       "       'Republic of Moldova', 'Romania', 'Senegal', 'Serbia', 'Singapore',\n",
       "       'Slovakia', 'Slovenia', 'South Africa', 'Spain', 'Sri Lanka',\n",
       "       'Sweden', 'Switzerland', 'Syrian Arab Republic',\n",
       "       'The Former Yugoslav Rep. of  Macedonia', 'Togo',\n",
       "       'Trinidad and Tobago', 'Tunisia', 'Turkey', 'United Kingdom',\n",
       "       'Venezuela', 'Yemen', 'Zimbabwe'], dtype=object)"
      ]
     },
     "execution_count": 9,
     "metadata": {},
     "output_type": "execute_result"
    }
   ],
   "source": [
    "precipitation_df['Country or Area'].values"
   ]
  },
  {
   "cell_type": "markdown",
   "metadata": {},
   "source": [
    "Having the names of the countries or areas as a column comes in handy, but it will be more useful to have the names as index for the rows. To manipulate the `DataFrame` in this fashion, do the following:"
   ]
  },
  {
   "cell_type": "code",
   "execution_count": 10,
   "metadata": {
    "collapsed": false
   },
   "outputs": [
    {
     "data": {
      "text/html": [
       "<div style=\"max-height:1000px;max-width:1500px;overflow:auto;\">\n",
       "<table border=\"1\" class=\"dataframe\">\n",
       "  <thead>\n",
       "    <tr style=\"text-align: right;\">\n",
       "      <th></th>\n",
       "      <th>1990</th>\n",
       "      <th>1995</th>\n",
       "      <th>1996</th>\n",
       "      <th>1997</th>\n",
       "      <th>1998</th>\n",
       "      <th>1999</th>\n",
       "      <th>2000</th>\n",
       "      <th>2001</th>\n",
       "      <th>2002</th>\n",
       "      <th>2003</th>\n",
       "      <th>2004</th>\n",
       "      <th>2005</th>\n",
       "      <th>2006</th>\n",
       "      <th>2007</th>\n",
       "      <th>2008</th>\n",
       "      <th>2009</th>\n",
       "    </tr>\n",
       "    <tr>\n",
       "      <th>Country or Area</th>\n",
       "      <th></th>\n",
       "      <th></th>\n",
       "      <th></th>\n",
       "      <th></th>\n",
       "      <th></th>\n",
       "      <th></th>\n",
       "      <th></th>\n",
       "      <th></th>\n",
       "      <th></th>\n",
       "      <th></th>\n",
       "      <th></th>\n",
       "      <th></th>\n",
       "      <th></th>\n",
       "      <th></th>\n",
       "      <th></th>\n",
       "      <th></th>\n",
       "    </tr>\n",
       "  </thead>\n",
       "  <tbody>\n",
       "    <tr>\n",
       "      <th>Albania</th>\n",
       "      <td> 28385.000000</td>\n",
       "      <td> 40311.000000</td>\n",
       "      <td>     0.000000</td>\n",
       "      <td>     0.000000</td>\n",
       "      <td>     0.0</td>\n",
       "      <td> 38284.000000</td>\n",
       "      <td> 30683.000000</td>\n",
       "      <td> 30491.000000</td>\n",
       "      <td> 35883.000000</td>\n",
       "      <td> 27893.000000</td>\n",
       "      <td> 42787.000000</td>\n",
       "      <td> 42840.000000</td>\n",
       "      <td> 32380.000000</td>\n",
       "      <td> 30964.000000</td>\n",
       "      <td>      0.000000</td>\n",
       "      <td>   0.000000</td>\n",
       "    </tr>\n",
       "    <tr>\n",
       "      <th>Algeria</th>\n",
       "      <td> 76160.000000</td>\n",
       "      <td> 90270.000000</td>\n",
       "      <td> 53380.000000</td>\n",
       "      <td> 74460.000000</td>\n",
       "      <td> 66470.0</td>\n",
       "      <td> 50150.000000</td>\n",
       "      <td> 64430.000000</td>\n",
       "      <td> 43840.000000</td>\n",
       "      <td> 37317.000000</td>\n",
       "      <td>     0.000000</td>\n",
       "      <td>     0.000000</td>\n",
       "      <td>     0.000000</td>\n",
       "      <td>     0.000000</td>\n",
       "      <td>     0.000000</td>\n",
       "      <td> 100000.000000</td>\n",
       "      <td>   0.000000</td>\n",
       "    </tr>\n",
       "    <tr>\n",
       "      <th>Andorra</th>\n",
       "      <td>   539.947998</td>\n",
       "      <td>   510.673004</td>\n",
       "      <td>   560.340027</td>\n",
       "      <td>   434.475006</td>\n",
       "      <td>   254.0</td>\n",
       "      <td>   450.151001</td>\n",
       "      <td>   518.666016</td>\n",
       "      <td>   456.626007</td>\n",
       "      <td>   565.559021</td>\n",
       "      <td>   566.583008</td>\n",
       "      <td>   567.044006</td>\n",
       "      <td>   530.278015</td>\n",
       "      <td>   353.220001</td>\n",
       "      <td>   306.630005</td>\n",
       "      <td>      0.000000</td>\n",
       "      <td>   0.000000</td>\n",
       "    </tr>\n",
       "    <tr>\n",
       "      <th>Anguilla</th>\n",
       "      <td>    93.099998</td>\n",
       "      <td>   100.730003</td>\n",
       "      <td>     0.000000</td>\n",
       "      <td>     0.000000</td>\n",
       "      <td>     0.0</td>\n",
       "      <td>     0.000000</td>\n",
       "      <td>    68.190002</td>\n",
       "      <td>    70.730003</td>\n",
       "      <td>    68.190002</td>\n",
       "      <td>   108.769997</td>\n",
       "      <td>    84.250000</td>\n",
       "      <td>   124.400002</td>\n",
       "      <td>    99.550003</td>\n",
       "      <td>    86.290001</td>\n",
       "      <td>     96.889999</td>\n",
       "      <td>  71.080002</td>\n",
       "    </tr>\n",
       "    <tr>\n",
       "      <th>Antigua and Barbuda</th>\n",
       "      <td>   300.299988</td>\n",
       "      <td>   374.500000</td>\n",
       "      <td>   323.299988</td>\n",
       "      <td>   279.200012</td>\n",
       "      <td>   384.5</td>\n",
       "      <td>   426.799988</td>\n",
       "      <td>   249.600006</td>\n",
       "      <td>   238.000000</td>\n",
       "      <td>   268.600006</td>\n",
       "      <td>   253.899994</td>\n",
       "      <td>   426.899994</td>\n",
       "      <td>   371.000000</td>\n",
       "      <td>   332.799988</td>\n",
       "      <td>   293.600006</td>\n",
       "      <td>    392.500000</td>\n",
       "      <td> 276.899994</td>\n",
       "    </tr>\n",
       "  </tbody>\n",
       "</table>\n",
       "</div>"
      ],
      "text/plain": [
       "                             1990          1995          1996          1997  \\\n",
       "Country or Area                                                               \n",
       "Albania              28385.000000  40311.000000      0.000000      0.000000   \n",
       "Algeria              76160.000000  90270.000000  53380.000000  74460.000000   \n",
       "Andorra                539.947998    510.673004    560.340027    434.475006   \n",
       "Anguilla                93.099998    100.730003      0.000000      0.000000   \n",
       "Antigua and Barbuda    300.299988    374.500000    323.299988    279.200012   \n",
       "\n",
       "                        1998          1999          2000          2001  \\\n",
       "Country or Area                                                          \n",
       "Albania                  0.0  38284.000000  30683.000000  30491.000000   \n",
       "Algeria              66470.0  50150.000000  64430.000000  43840.000000   \n",
       "Andorra                254.0    450.151001    518.666016    456.626007   \n",
       "Anguilla                 0.0      0.000000     68.190002     70.730003   \n",
       "Antigua and Barbuda    384.5    426.799988    249.600006    238.000000   \n",
       "\n",
       "                             2002          2003          2004          2005  \\\n",
       "Country or Area                                                               \n",
       "Albania              35883.000000  27893.000000  42787.000000  42840.000000   \n",
       "Algeria              37317.000000      0.000000      0.000000      0.000000   \n",
       "Andorra                565.559021    566.583008    567.044006    530.278015   \n",
       "Anguilla                68.190002    108.769997     84.250000    124.400002   \n",
       "Antigua and Barbuda    268.600006    253.899994    426.899994    371.000000   \n",
       "\n",
       "                             2006          2007           2008        2009  \n",
       "Country or Area                                                             \n",
       "Albania              32380.000000  30964.000000       0.000000    0.000000  \n",
       "Algeria                  0.000000      0.000000  100000.000000    0.000000  \n",
       "Andorra                353.220001    306.630005       0.000000    0.000000  \n",
       "Anguilla                99.550003     86.290001      96.889999   71.080002  \n",
       "Antigua and Barbuda    332.799988    293.600006     392.500000  276.899994  "
      ]
     },
     "execution_count": 10,
     "metadata": {},
     "output_type": "execute_result"
    }
   ],
   "source": [
    "precipitation_df = precipitation_df.set_index(precipitation_df[\"Country or Area\"])\n",
    "precipitation_df.drop(['Country or Area'], axis=1, inplace=True)\n",
    "precipitation_df.head()"
   ]
  },
  {
   "cell_type": "markdown",
   "metadata": {},
   "source": [
    "## 6. Plotting data using the matplotlib package\n",
    "When working with interactive notebooks, you can decide how to present results and information. So far, we have used normal print functions which are informative. We can also choose a visual way, using the popular [`matplotlib`](http://matplotlib.org/) package to create plots.\n",
    "\n",
    "First, tell Jupyter to render charts inline:"
   ]
  },
  {
   "cell_type": "code",
   "execution_count": 11,
   "metadata": {
    "collapsed": true
   },
   "outputs": [],
   "source": [
    "%matplotlib inline "
   ]
  },
  {
   "cell_type": "markdown",
   "metadata": {},
   "source": [
    "Then we can use the `pandas` wrappers around `matplotlib` routines. Because we changed the index for the rows, we can access the measurements of a country or area by name. Let us have a look at the annual precipitation of Germany."
   ]
  },
  {
   "cell_type": "code",
   "execution_count": 12,
   "metadata": {
    "collapsed": false
   },
   "outputs": [
    {
     "data": {
      "image/png": "[encoded data removed]",
      "text/plain": [
       "<matplotlib.figure.Figure at 0x7f92800b1f10>"
      ]
     },
     "metadata": {},
     "output_type": "display_data"
    }
   ],
   "source": [
    "germany = precipitation_df.ix['Germany']\n",
    "ax = germany.plot(kind='bar', figsize=(8,5), title=\"Precipitation of %s between 1990 to 2009\" % germany.name)\n",
    "ax.set_ylabel(\"Precipitation (million cubic meters)\")\n",
    "ax.set_xlabel(\"Years\");"
   ]
  },
  {
   "cell_type": "markdown",
   "metadata": {},
   "source": [
    "Another possibility is to import `matplotlib` and use it directly for plotting."
   ]
  },
  {
   "cell_type": "code",
   "execution_count": 13,
   "metadata": {
    "collapsed": false
   },
   "outputs": [
    {
     "data": {
      "image/png": "[encoded data removed]",
      "text/plain": [
       "<matplotlib.figure.Figure at 0x7f927be0af90>"
      ]
     },
     "metadata": {},
     "output_type": "display_data"
    }
   ],
   "source": [
    "import matplotlib.pyplot as plt, numpy as np\n",
    "\n",
    "france = precipitation_df.ix['France']\n",
    "years = france.index\n",
    "index = np.arange(len(years))  \n",
    "plt.figure(figsize=(8,5))\n",
    "bar_width = 0.5\n",
    "plt.bar(index, france, bar_width, color='b')\n",
    "plt.xlabel(\"Year\")\n",
    "plt.ylabel(\"Precipitation (million cubic meters)\")\n",
    "plt.title(\"Precipitation of %s between 1990 to 2009\" % france.name, y=1.08)\n",
    "plt.xticks(index + bar_width, years, rotation=90)\n",
    "plt.show()"
   ]
  },
  {
   "cell_type": "markdown",
   "metadata": {},
   "source": [
    "## 7. Analyzing data and raising questions\n",
    "We explored and prepared the annual precipitation data. Now, we can raise more complex questions and make use of the data to answer them.\n",
    "### Question 1: Which countries or areas have the highest total precipitation?\n",
    "The first step we must take to answer this question is to compute the sums for annual precipitation. This can be done using the `pandas` method `sum()`."
   ]
  },
  {
   "cell_type": "code",
   "execution_count": 14,
   "metadata": {
    "collapsed": true
   },
   "outputs": [],
   "source": [
    "precipitation_df[\"SUM\"] = precipitation_df.sum(axis=1)"
   ]
  },
  {
   "cell_type": "markdown",
   "metadata": {},
   "source": [
    "Now we have an **additional** column called \"SUM\" in `precipitation_df`, containing the sums of the corresponding annual precipitation values. Because we are interested in the countries or areas with the highest precipitation, we have to sort the `DataFrame` by total precipitation. Then we can print the top 5 countries or areas with the highest total precipitation."
   ]
  },
  {
   "cell_type": "code",
   "execution_count": 15,
   "metadata": {
    "collapsed": false
   },
   "outputs": [
    {
     "data": {
      "text/plain": [
       "Country or Area\n",
       "China              59269500.0000\n",
       "Colombia           35600950.0000\n",
       "Venezuela          22160738.6250\n",
       "India              16000000.0000\n",
       "Chile              15940757.0625\n",
       "Name: SUM, dtype: float64"
      ]
     },
     "execution_count": 15,
     "metadata": {},
     "output_type": "execute_result"
    }
   ],
   "source": [
    "precipitation_sorted_df = precipitation_df.sort([\"SUM\"],ascending=False)\n",
    "top5_sums = pd.Series(precipitation_sorted_df[\"SUM\"].head(5))\n",
    "top5_sums"
   ]
  },
  {
   "cell_type": "markdown",
   "metadata": {},
   "source": [
    "In addition, let us plot the top 5 countries in a bar chart together for better comparison."
   ]
  },
  {
   "cell_type": "code",
   "execution_count": 16,
   "metadata": {
    "collapsed": false
   },
   "outputs": [
    {
     "data": {
      "image/png": "[encoded data removed]",
      "text/plain": [
       "<matplotlib.figure.Figure at 0x7f92800c34d0>"
      ]
     },
     "metadata": {},
     "output_type": "display_data"
    }
   ],
   "source": [
    "top5_bars = precipitation_sorted_df[years][0:5].transpose()\n",
    "ax = top5_bars.plot(figsize=(10,8), marker='o', linestyle='-', title=\"Top 5 Countries with highest Precipitation\")\n",
    "ax.set_xlabel(\"Years\")\n",
    "ax.set_ylabel(\"Precipitation (million cubic meters)\");"
   ]
  },
  {
   "cell_type": "markdown",
   "metadata": {},
   "source": [
    "Now compare the annual precipitation values of the top 5 countries. China has the highest annual precipitation, followed by Colombia. It is also obvious that some values are missing, which makes comparison difficult. Now, we want to know the percentage values of the precipitation for the top 5 countries in relation to the rest. A pie chart is ideal to show this kind of information. Below, you can see the code for creating a pie plot with `matplotlib`."
   ]
  },
  {
   "cell_type": "code",
   "execution_count": 17,
   "metadata": {
    "collapsed": false
   },
   "outputs": [
    {
     "data": {
      "image/png": "[encoded data removed]",
      "text/plain": [
       "<matplotlib.figure.Figure at 0x7f927bd40490>"
      ]
     },
     "metadata": {},
     "output_type": "display_data"
    }
   ],
   "source": [
    "precipitation_sums = top5_sums\n",
    "other_sums = precipitation_sorted_df[\"SUM\"][5:].sum()\n",
    "precipitation_sums[\"Other\"] = other_sums\n",
    "\n",
    "plt.axis('equal')\n",
    "plt.title(\"Annual precipitation percentage\",y=1.08)\n",
    "plt.pie(\n",
    "    precipitation_sums,\n",
    "    labels=precipitation_sums.index,\n",
    "    colors=['blue', 'green', 'red', 'turquoise', 'magenta','yellow'],\n",
    "    autopct=\"%1.2f%%\",\n",
    "    radius=1.25);"
   ]
  },
  {
   "cell_type": "markdown",
   "metadata": {},
   "source": [
    "In this pie chart one can recognize that from the 91 countries and areas we consider, nearly a quarter of the precipitation for the observed years was in China, and over half of the precipitation was in the top 5 countries."
   ]
  },
  {
   "cell_type": "markdown",
   "metadata": {},
   "source": [
    "### Question 2: Which countries show a negative trend in annual precipitation ?\n",
    "Going through each row of a `DataFrame` and looking at the numbers is not a viable solution to determine trends. Plotting a bar chart for each country or area is possible, but inconvenient. One possiblity to determine trends in annual precipitation is to fit a line to the data points. Run the code cells below to see the bar chart and the trend for annual precipitation for Chile."
   ]
  },
  {
   "cell_type": "code",
   "execution_count": 18,
   "metadata": {
    "collapsed": false
   },
   "outputs": [
    {
     "data": {
      "image/png": "[encoded data removed]",
      "text/plain": [
       "<matplotlib.figure.Figure at 0x7f927be84910>"
      ]
     },
     "metadata": {},
     "output_type": "display_data"
    }
   ],
   "source": [
    "chile = precipitation_sorted_df.ix['Chile'][:-1]\n",
    "years = chile.index\n",
    "chile.plot(kind='bar', figsize=(8,5), title=\"Precipitation of %s between 1990 to 2009\" % chile.name)\n",
    "plt.xlabel(\"Year\")\n",
    "plt.ylabel(\"Precipitation (million cubic meters)\");"
   ]
  },
  {
   "cell_type": "code",
   "execution_count": 19,
   "metadata": {
    "collapsed": false
   },
   "outputs": [
    {
     "name": "stdout",
     "output_type": "stream",
     "text": [
      "slope: 5451.91305205\n"
     ]
    }
   ],
   "source": [
    "index = chile[chile>0.0].index\n",
    "fit = np.polyfit(index.astype('int'), chile[index].values,1)\n",
    "print \"slope: \" + str(fit[0])"
   ]
  },
  {
   "cell_type": "code",
   "execution_count": 20,
   "metadata": {
    "collapsed": false
   },
   "outputs": [
    {
     "data": {
      "image/png": "[encoded data removed]",
      "text/plain": [
       "<matplotlib.figure.Figure at 0x7f927bd8d3d0>"
      ]
     },
     "metadata": {},
     "output_type": "display_data"
    }
   ],
   "source": [
    "plt.plot(index, chile[index],'.')\n",
    "plt.plot(index, fit[0]*index.astype('int') + fit[1], '-', color='red')\n",
    "plt.title(\"Precipitation Trend for Chile\")\n",
    "plt.xlabel(\"Year\")\n",
    "plt.ylabel(\"Precipitation (million cubic meters)\")\n",
    "plt.show()"
   ]
  },
  {
   "cell_type": "markdown",
   "metadata": {},
   "source": [
    "`polyfit()` fits a line through the data points. For our two-dimensional data, it returns two values: slope and intercept. To determine whether the trend is positive or negative, we only have to look at the slope. Of course, we have to exclude any datapoints correponding to value of 0.0.\n",
    "\n",
    "For Chile, we observe a positive trend in annual precipitation, despite the fact that during the last couple of years the annual precipitation decreased. This example shows you how to determine the trend for the annual precipitation of one country. Now we have to do it for all 91 countries or areas. Let us implement an automated way to determine the trends for all countries and areas. Run the code cell below."
   ]
  },
  {
   "cell_type": "code",
   "execution_count": 21,
   "metadata": {
    "collapsed": true
   },
   "outputs": [],
   "source": [
    "def compute_slope(row):\n",
    "    ''' This method computes the slope of a fittet line for given data points. \n",
    "    For arguments containing less than two valid data points it returns a NaN.'''\n",
    "    slope = np.nan\n",
    "    years = row[row>0.0].index\n",
    "    if(len(years)>=2):\n",
    "        fit = np.polyfit(years.astype('int'), row[years].values,1)\n",
    "        slope = fit[0]\n",
    "    return slope"
   ]
  },
  {
   "cell_type": "markdown",
   "metadata": {},
   "source": [
    "After defining `compute_slope()`, we can use the `pandas` method `apply()` to compute the slope for each row in the `DataFrame`."
   ]
  },
  {
   "cell_type": "code",
   "execution_count": 22,
   "metadata": {
    "collapsed": false
   },
   "outputs": [
    {
     "data": {
      "text/html": [
       "<div style=\"max-height:1000px;max-width:1500px;overflow:auto;\">\n",
       "<table border=\"1\" class=\"dataframe\">\n",
       "  <thead>\n",
       "    <tr style=\"text-align: right;\">\n",
       "      <th></th>\n",
       "      <th>1990</th>\n",
       "      <th>1995</th>\n",
       "      <th>1996</th>\n",
       "      <th>1997</th>\n",
       "      <th>1998</th>\n",
       "      <th>1999</th>\n",
       "      <th>2000</th>\n",
       "      <th>2001</th>\n",
       "      <th>2002</th>\n",
       "      <th>2003</th>\n",
       "      <th>2004</th>\n",
       "      <th>2005</th>\n",
       "      <th>2006</th>\n",
       "      <th>2007</th>\n",
       "      <th>2008</th>\n",
       "      <th>2009</th>\n",
       "      <th>SUM</th>\n",
       "      <th>TREND</th>\n",
       "    </tr>\n",
       "    <tr>\n",
       "      <th>Country or Area</th>\n",
       "      <th></th>\n",
       "      <th></th>\n",
       "      <th></th>\n",
       "      <th></th>\n",
       "      <th></th>\n",
       "      <th></th>\n",
       "      <th></th>\n",
       "      <th></th>\n",
       "      <th></th>\n",
       "      <th></th>\n",
       "      <th></th>\n",
       "      <th></th>\n",
       "      <th></th>\n",
       "      <th></th>\n",
       "      <th></th>\n",
       "      <th></th>\n",
       "      <th></th>\n",
       "      <th></th>\n",
       "    </tr>\n",
       "  </thead>\n",
       "  <tbody>\n",
       "    <tr>\n",
       "      <th>Albania</th>\n",
       "      <td> 28385.000000</td>\n",
       "      <td> 40311.000000</td>\n",
       "      <td>     0.000000</td>\n",
       "      <td>     0.000000</td>\n",
       "      <td>     0.0</td>\n",
       "      <td> 38284.000000</td>\n",
       "      <td> 30683.000000</td>\n",
       "      <td> 30491.000000</td>\n",
       "      <td> 35883.000000</td>\n",
       "      <td> 27893.000000</td>\n",
       "      <td> 42787.000000</td>\n",
       "      <td> 42840.000000</td>\n",
       "      <td> 32380.000000</td>\n",
       "      <td> 30964.000000</td>\n",
       "      <td>      0.000000</td>\n",
       "      <td>   0.000000</td>\n",
       "      <td> 380901.000000</td>\n",
       "      <td> 170.395758</td>\n",
       "    </tr>\n",
       "    <tr>\n",
       "      <th>Algeria</th>\n",
       "      <td> 76160.000000</td>\n",
       "      <td> 90270.000000</td>\n",
       "      <td> 53380.000000</td>\n",
       "      <td> 74460.000000</td>\n",
       "      <td> 66470.0</td>\n",
       "      <td> 50150.000000</td>\n",
       "      <td> 64430.000000</td>\n",
       "      <td> 43840.000000</td>\n",
       "      <td> 37317.000000</td>\n",
       "      <td>     0.000000</td>\n",
       "      <td>     0.000000</td>\n",
       "      <td>     0.000000</td>\n",
       "      <td>     0.000000</td>\n",
       "      <td>     0.000000</td>\n",
       "      <td> 100000.000000</td>\n",
       "      <td>   0.000000</td>\n",
       "      <td> 656477.000000</td>\n",
       "      <td>  22.513699</td>\n",
       "    </tr>\n",
       "    <tr>\n",
       "      <th>Andorra</th>\n",
       "      <td>   539.947998</td>\n",
       "      <td>   510.673004</td>\n",
       "      <td>   560.340027</td>\n",
       "      <td>   434.475006</td>\n",
       "      <td>   254.0</td>\n",
       "      <td>   450.151001</td>\n",
       "      <td>   518.666016</td>\n",
       "      <td>   456.626007</td>\n",
       "      <td>   565.559021</td>\n",
       "      <td>   566.583008</td>\n",
       "      <td>   567.044006</td>\n",
       "      <td>   530.278015</td>\n",
       "      <td>   353.220001</td>\n",
       "      <td>   306.630005</td>\n",
       "      <td>      0.000000</td>\n",
       "      <td>   0.000000</td>\n",
       "      <td>   6614.193115</td>\n",
       "      <td>  -4.757211</td>\n",
       "    </tr>\n",
       "    <tr>\n",
       "      <th>Anguilla</th>\n",
       "      <td>    93.099998</td>\n",
       "      <td>   100.730003</td>\n",
       "      <td>     0.000000</td>\n",
       "      <td>     0.000000</td>\n",
       "      <td>     0.0</td>\n",
       "      <td>     0.000000</td>\n",
       "      <td>    68.190002</td>\n",
       "      <td>    70.730003</td>\n",
       "      <td>    68.190002</td>\n",
       "      <td>   108.769997</td>\n",
       "      <td>    84.250000</td>\n",
       "      <td>   124.400002</td>\n",
       "      <td>    99.550003</td>\n",
       "      <td>    86.290001</td>\n",
       "      <td>     96.889999</td>\n",
       "      <td>  71.080002</td>\n",
       "      <td>   1072.170013</td>\n",
       "      <td>  -0.019358</td>\n",
       "    </tr>\n",
       "    <tr>\n",
       "      <th>Antigua and Barbuda</th>\n",
       "      <td>   300.299988</td>\n",
       "      <td>   374.500000</td>\n",
       "      <td>   323.299988</td>\n",
       "      <td>   279.200012</td>\n",
       "      <td>   384.5</td>\n",
       "      <td>   426.799988</td>\n",
       "      <td>   249.600006</td>\n",
       "      <td>   238.000000</td>\n",
       "      <td>   268.600006</td>\n",
       "      <td>   253.899994</td>\n",
       "      <td>   426.899994</td>\n",
       "      <td>   371.000000</td>\n",
       "      <td>   332.799988</td>\n",
       "      <td>   293.600006</td>\n",
       "      <td>    392.500000</td>\n",
       "      <td> 276.899994</td>\n",
       "      <td>   5192.399963</td>\n",
       "      <td>   0.219277</td>\n",
       "    </tr>\n",
       "  </tbody>\n",
       "</table>\n",
       "</div>"
      ],
      "text/plain": [
       "                             1990          1995          1996          1997  \\\n",
       "Country or Area                                                               \n",
       "Albania              28385.000000  40311.000000      0.000000      0.000000   \n",
       "Algeria              76160.000000  90270.000000  53380.000000  74460.000000   \n",
       "Andorra                539.947998    510.673004    560.340027    434.475006   \n",
       "Anguilla                93.099998    100.730003      0.000000      0.000000   \n",
       "Antigua and Barbuda    300.299988    374.500000    323.299988    279.200012   \n",
       "\n",
       "                        1998          1999          2000          2001  \\\n",
       "Country or Area                                                          \n",
       "Albania                  0.0  38284.000000  30683.000000  30491.000000   \n",
       "Algeria              66470.0  50150.000000  64430.000000  43840.000000   \n",
       "Andorra                254.0    450.151001    518.666016    456.626007   \n",
       "Anguilla                 0.0      0.000000     68.190002     70.730003   \n",
       "Antigua and Barbuda    384.5    426.799988    249.600006    238.000000   \n",
       "\n",
       "                             2002          2003          2004          2005  \\\n",
       "Country or Area                                                               \n",
       "Albania              35883.000000  27893.000000  42787.000000  42840.000000   \n",
       "Algeria              37317.000000      0.000000      0.000000      0.000000   \n",
       "Andorra                565.559021    566.583008    567.044006    530.278015   \n",
       "Anguilla                68.190002    108.769997     84.250000    124.400002   \n",
       "Antigua and Barbuda    268.600006    253.899994    426.899994    371.000000   \n",
       "\n",
       "                             2006          2007           2008        2009  \\\n",
       "Country or Area                                                              \n",
       "Albania              32380.000000  30964.000000       0.000000    0.000000   \n",
       "Algeria                  0.000000      0.000000  100000.000000    0.000000   \n",
       "Andorra                353.220001    306.630005       0.000000    0.000000   \n",
       "Anguilla                99.550003     86.290001      96.889999   71.080002   \n",
       "Antigua and Barbuda    332.799988    293.600006     392.500000  276.899994   \n",
       "\n",
       "                               SUM       TREND  \n",
       "Country or Area                                 \n",
       "Albania              380901.000000  170.395758  \n",
       "Algeria              656477.000000   22.513699  \n",
       "Andorra                6614.193115   -4.757211  \n",
       "Anguilla               1072.170013   -0.019358  \n",
       "Antigua and Barbuda    5192.399963    0.219277  "
      ]
     },
     "execution_count": 22,
     "metadata": {},
     "output_type": "execute_result"
    }
   ],
   "source": [
    "precipitation_df[\"TREND\"] = precipitation_sorted_df[years].apply(compute_slope, axis=1)\n",
    "precipitation_df.head()"
   ]
  },
  {
   "cell_type": "markdown",
   "metadata": {},
   "source": [
    "Now we have an **additional** column called \"TREND\", containing the slope of the fittet lines. If the value is positive, there is a positive trend for annual precipitation. If the value is negative, there is a negative trend for annual precipitation. Values near zero indicate a stable condition. \n",
    "\n",
    "To answer our second question, we have to determine all rows in our `DataFrame` with a negative value in the column \"TREND\". The corresponding code is in the cell below."
   ]
  },
  {
   "cell_type": "code",
   "execution_count": 23,
   "metadata": {
    "collapsed": false
   },
   "outputs": [
    {
     "data": {
      "text/plain": [
       "Index([u'Andorra', u'Anguilla', u'Bahrain', u'Barbados', u'Central African Republic', u'China', u'China, Hong Kong SAR', u'Cuba', u'Denmark', u'Estonia', u'Guinea', u'India', u'Iraq', u'Israel', u'Italy', u'Kazakhstan', u'Latvia', u'Lebanon', u'Lithuania', u'Luxembourg', u'Marshall Islands', u'Monaco', u'Morocco', u'Paraguay', u'Poland', u'Portugal', u'Qatar', u'Republic of Moldova', u'Slovenia', u'Spain', u'Switzerland', u'Togo', u'Tunisia', u'Venezuela', u'Yemen'], dtype='object')"
      ]
     },
     "execution_count": 23,
     "metadata": {},
     "output_type": "execute_result"
    }
   ],
   "source": [
    "negative_trends = precipitation_df[precipitation_df[\"TREND\"]<0.0]\n",
    "negative_trends.index"
   ]
  },
  {
   "cell_type": "markdown",
   "metadata": {},
   "source": [
    "### Question 3: Which country or area diplays the steepest positive trend in precipitation?\n",
    "We leave this question for you to be answered."
   ]
  },
  {
   "cell_type": "code",
   "execution_count": 26,
   "metadata": {
    "collapsed": false
   },
   "outputs": [
    {
     "data": {
      "text/plain": [
       "Country or Area\n",
       "Botswana           14339.275862\n",
       "Colombia            7458.999810\n",
       "Chile               5451.913052\n",
       "Turkey              4034.054817\n",
       "Sweden              2465.510843\n",
       "Name: TREND, dtype: float64"
      ]
     },
     "execution_count": 26,
     "metadata": {},
     "output_type": "execute_result"
    }
   ],
   "source": [
    "steepest_positive_trend = precipitation_df.sort([\"TREND\"],ascending=False)\n",
    "top5_steepest_positive = pd.Series(steepest_positive_trend[\"TREND\"].head(5))\n",
    "top5_steepest_positive"
   ]
  },
  {
   "cell_type": "markdown",
   "metadata": {},
   "source": [
    "## Download Notebooks\n",
    "After performing an analysis, you can download your results. In the **Menu Bar**, go to **File** and then to **Download as**. It is possible to download notebooks in various formats to your local file system. Then you can send your work and results to colleagues."
   ]
  },
  {
   "cell_type": "markdown",
   "metadata": {
    "collapsed": false
   },
   "source": [
    "## You want to know more?\n",
    "There are interesting tutorials on YouTube:\n",
    "\n",
    "[PyData 2015 - Introduction to Pandas](https://www.youtube.com/watch?v=TSsSWuhBpmY)\n",
    "\n",
    "[Matplotlib Python Tutorial](https://www.youtube.com/watch?v=wAwQ-noyB98)\n",
    "\n",
    "Please check out our [Learning Center](https://developer.ibm.com/clouddataservices/docs/spark/) for more samples, tutorials, documentation, how-tos and blog posts."
   ]
  },
  {
   "cell_type": "markdown",
   "metadata": {},
   "source": [
    "### More links to learning material:\n",
    "[Learn Python the Hard Way](http://learnpythonthehardway.org/book/)<br/> \n",
    "[Python Programming Language](https://www.python.org/)<br/> \n",
    "[IPython Notebook](http://nbviewer.ipython.org/github/ipython/ipython/blob/2.x/examples/Notebook/Index.ipynb)<br/> \n",
    "[Jupyter Notebook](http://jupyter.readthedocs.org/en/latest/)<br/> \n",
    "[A gallery of interesting Notebooks](https://github.com/ipython/ipython/wiki/A-gallery-of-interesting-IPython-Notebooks)<br/> "
   ]
  }
 ],
 "metadata": {
  "kernelspec": {
   "display_name": "Python 2",
   "language": "python",
   "name": "python2"
  },
  "language_info": {
   "codemirror_mode": {
    "name": "ipython",
    "version": 2
   },
   "file_extension": ".py",
   "mimetype": "text/x-python",
   "name": "python",
   "nbconvert_exporter": "python",
   "pygments_lexer": "ipython2",
   "version": "2.7.9"
  }
 },
 "nbformat": 4,
 "nbformat_minor": 0
}